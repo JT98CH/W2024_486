{
 "cells": [
  {
   "cell_type": "code",
   "execution_count": 45,
   "id": "5b67b0c5",
   "metadata": {},
   "outputs": [],
   "source": [
    "%reset -f"
   ]
  },
  {
   "cell_type": "code",
   "execution_count": 115,
   "id": "394df643",
   "metadata": {},
   "outputs": [],
   "source": [
    "import pandas as pd\n",
    "import numpy as np\n",
    "import random\n",
    "import re\n",
    "import gc\n",
    "\n",
    "from sklearn.pipeline import Pipeline\n",
    "from sklearn.model_selection import train_test_split\n",
    "from sklearn.preprocessing import PolynomialFeatures, StandardScaler, OneHotEncoder\n",
    "from sklearn.model_selection import GridSearchCV\n",
    "from sklearn.model_selection import RandomizedSearchCV\n",
    "from sklearn.compose import ColumnTransformer\n",
    "from sklearn.impute import SimpleImputer\n",
    "from sklearn.impute import KNNImputer\n",
    "from sklearn.neighbors import KNeighborsRegressor\n",
    "from sklearn.metrics import make_scorer, mean_absolute_error\n",
    "from sklearn.feature_selection import SelectPercentile, f_regression\n",
    "from sklearn.linear_model import RidgeCV, LassoCV\n",
    "from sklearn.model_selection import cross_val_score, KFold\n",
    "from sklearn.ensemble import RandomForestRegressor\n",
    "from sklearn.tree import DecisionTreeRegressor\n",
    "\n",
    "from sklearn.linear_model import SGDClassifier\n",
    "from sklearn.datasets import make_classification\n",
    "import random\n",
    "from sklearn.pipeline import make_pipeline\n",
    "from sklearn.compose import TransformedTargetRegressor"
   ]
  },
  {
   "cell_type": "code",
   "execution_count": 47,
   "id": "e63a5449",
   "metadata": {},
   "outputs": [
    {
     "data": {
      "text/plain": [
       "0"
      ]
     },
     "execution_count": 47,
     "metadata": {},
     "output_type": "execute_result"
    }
   ],
   "source": [
    "gc.collect()"
   ]
  },
  {
   "cell_type": "code",
   "execution_count": 48,
   "id": "625b2614",
   "metadata": {},
   "outputs": [],
   "source": [
    "listings = pd.read_csv(\"train.csv\")"
   ]
  },
  {
   "cell_type": "code",
   "execution_count": 49,
   "id": "74c87ed2",
   "metadata": {},
   "outputs": [
    {
     "data": {
      "text/plain": [
       "Index(['Id', 'price', 'name', 'neighborhood_overview', 'host_id', 'host_since',\n",
       "       'host_location', 'host_about', 'host_response_time',\n",
       "       'host_response_rate', 'host_acceptance_rate', 'host_is_superhost',\n",
       "       'host_listings_count', 'host_verifications', 'host_has_profile_pic',\n",
       "       'host_identity_verified', 'neighbourhood_cleansed', 'latitude',\n",
       "       'longitude', 'property_type', 'room_type', 'accommodates',\n",
       "       'bathrooms_text', 'bedrooms', 'beds', 'amenities', 'minimum_nights',\n",
       "       'maximum_nights', 'minimum_minimum_nights', 'maximum_minimum_nights',\n",
       "       'minimum_maximum_nights', 'maximum_maximum_nights',\n",
       "       'minimum_nights_avg_ntm', 'maximum_nights_avg_ntm', 'has_availability',\n",
       "       'availability_30', 'availability_60', 'availability_90',\n",
       "       'availability_365', 'number_of_reviews', 'number_of_reviews_ltm',\n",
       "       'number_of_reviews_l30d', 'first_review', 'last_review',\n",
       "       'review_scores_rating', 'review_scores_accuracy',\n",
       "       'review_scores_cleanliness', 'review_scores_checkin',\n",
       "       'review_scores_communication', 'review_scores_location',\n",
       "       'review_scores_value', 'instant_bookable'],\n",
       "      dtype='object')"
      ]
     },
     "execution_count": 49,
     "metadata": {},
     "output_type": "execute_result"
    }
   ],
   "source": [
    "listings.columns"
   ]
  },
  {
   "cell_type": "code",
   "execution_count": 50,
   "id": "0adc6030",
   "metadata": {},
   "outputs": [],
   "source": [
    "#random.sample(list(listings[\"neighborhood_overview\"].values), 1)"
   ]
  },
  {
   "cell_type": "code",
   "execution_count": 51,
   "id": "55aaa3aa",
   "metadata": {},
   "outputs": [],
   "source": [
    "positive_words = np.array([\"close\", \"night life\", \"favorite\", \"famous\",\n",
    "                           \"!\", \"amazing\", \"easy\", \"lovely\", \"easily\",\n",
    "                           \"great\", \"shopping\", \"restaurants\", \"explore\",\n",
    "                           \"historic\", \"hotspot\", \"relax\",\n",
    "                           \"perfect\", \"unforgettable\", \"inspiring\", \"convenient\",\n",
    "                           \"theaters\", \"attractions\", \"walking\", \"playground\",\n",
    "                           \"park\", \"clubs\", \"quiet\", \"market\",\n",
    "                           \"best\", \"library\", \"local\", \"sights\",\n",
    "                           \"heart\", \"charming\", \"museum\"])"
   ]
  },
  {
   "cell_type": "code",
   "execution_count": 52,
   "id": "fbc1bf0b",
   "metadata": {},
   "outputs": [],
   "source": [
    "def parse_descriptions(descriptions):\n",
    "    parsed_info = {\n",
    "        'bedrooms': [],\n",
    "        'beds': [],\n",
    "        'baths': []\n",
    "    }\n",
    "\n",
    "    for description in descriptions:\n",
    "        brms = re.split(r'(\\d+)\\s*bedroom',description)\n",
    "        bds = re.split(r'(\\d+)\\s*bed(?:s\\b)?(?!room)',description)\n",
    "        bths = re.split(r'(\\d+(\\.\\d+)?)\\s*(shared|private)?\\s*bath',description)\n",
    "\n",
    "        # print(brms)\n",
    "        # print(bds)\n",
    "        # print(bths)\n",
    "\n",
    "        if len(brms) > 1:\n",
    "            parsed_info[\"bedrooms\"].append(float(brms[1]))\n",
    "        else:\n",
    "            parsed_info[\"bedrooms\"].append(0)\n",
    "        if len(bds) > 1:\n",
    "            parsed_info[\"beds\"].append(float(bds[1]))\n",
    "        else: \n",
    "            parsed_info[\"beds\"].append(0)\n",
    "        if len(bths) > 1:\n",
    "            parsed_info[\"baths\"].append(float(bths[1]))\n",
    "        else:\n",
    "            parsed_info[\"baths\"].append(0)\n",
    "\n",
    "    return parsed_info"
   ]
  },
  {
   "cell_type": "code",
   "execution_count": 53,
   "id": "791a6c7a",
   "metadata": {},
   "outputs": [],
   "source": [
    "# descriptions = listings[\"name\"].values\n",
    "# apartment_stats  = parse_descriptions(descriptions)"
   ]
  },
  {
   "cell_type": "code",
   "execution_count": 54,
   "id": "cc635613",
   "metadata": {},
   "outputs": [],
   "source": [
    "# listings_cleaned = pd.concat([listings.drop(columns=[\"bedrooms\"]), pd.DataFrame(apartment_stats)[[\"bedrooms\", \"baths\"]]], axis=1)"
   ]
  },
  {
   "cell_type": "code",
   "execution_count": 55,
   "id": "cdeb0ab0",
   "metadata": {},
   "outputs": [],
   "source": [
    "# listings_cleaned[\"host_response_rate\"] = listings_cleaned[\"host_response_rate\"].apply(lambda r: float(r.split(\"%\")[0]) if isinstance(r, str) else r)"
   ]
  },
  {
   "cell_type": "code",
   "execution_count": 56,
   "id": "ae77e4ca",
   "metadata": {},
   "outputs": [],
   "source": [
    "# listings_cleaned.columns"
   ]
  },
  {
   "cell_type": "code",
   "execution_count": 57,
   "id": "0f592cb5",
   "metadata": {},
   "outputs": [],
   "source": [
    "# listings_cleaned[\"last_review\"] = pd.to_datetime(listings_cleaned[\"last_review\"])\n",
    "# most_recent_date = listings_cleaned[\"last_review\"].max()\n",
    "# listings_cleaned[\"recency\"] = 1+(most_recent_date-listings_cleaned[\"last_review\"]).dt.days"
   ]
  },
  {
   "cell_type": "code",
   "execution_count": 58,
   "id": "254b46d8",
   "metadata": {},
   "outputs": [],
   "source": [
    "def apt_type(description):\n",
    "    return description.split(\" \")[0].upper()\n",
    "\n",
    "#listings_cleaned[\"apt_type\"] = listings_cleaned[\"name\"].apply(lambda d: apt_type(d))"
   ]
  },
  {
   "cell_type": "code",
   "execution_count": 59,
   "id": "e4ea4250",
   "metadata": {},
   "outputs": [],
   "source": [
    "# listings_cleaned[\"neighborhood_positivity\"] = listings_cleaned[\"neighborhood_overview\"].apply(\n",
    "#     lambda d: np.sum([word in d.lower() for word in positive_words]) if not pd.isna(d) else 0\n",
    "# )"
   ]
  },
  {
   "cell_type": "code",
   "execution_count": 60,
   "id": "82018a25",
   "metadata": {},
   "outputs": [],
   "source": [
    "# listings_cleaned[\"host_description_score\"] = listings_cleaned[\"host_about\"].apply(\n",
    "#     lambda d: len(d) if not pd.isna(d) else 0\n",
    "# )\n",
    "\n",
    "# listings_cleaned[\"host_since\"] = pd.to_datetime(listings_cleaned[\"host_since\"])\n",
    "# listings_cleaned[\"host_recency\"] = 1+(most_recent_date-listings_cleaned[\"host_since\"]).dt.days"
   ]
  },
  {
   "cell_type": "code",
   "execution_count": 61,
   "id": "4151bc44",
   "metadata": {},
   "outputs": [],
   "source": [
    "# R = 6371\n",
    "\n",
    "# x = listings_cleaned[\"latitude\"].values\n",
    "# y = listings_cleaned[\"longitude\"].values\n",
    "\n",
    "# def haversine(x0, y0, x_vector, y_vector):\n",
    "#     x = np.deg2rad(x0)\n",
    "#     y = np.deg2rad(y0)\n",
    "#     lat = np.deg2rad(x_vector)\n",
    "#     long = np.deg2rad(y_vector)\n",
    "#     xdiff = x-lat\n",
    "#     ydiff = y-long\n",
    "    \n",
    "#     d = np.sin(xdiff / 2)**2 + np.cos(x) * np.cos(lat) * np.sin(ydiff / 2)**2\n",
    "#     c = 2 * np.arctan2(np.sqrt(d), np.sqrt(1-d))\n",
    "#     km = R*c\n",
    "\n",
    "#     return km\n",
    "\n",
    "# def euclidean(x0, y0, x_vector, y_vector):\n",
    "#     return np.sqrt(np.power((x0-x_vector),2)+np.power((y0+y_vector),2))\n",
    "\n",
    "# def compute_weights(epsilon, d, p=2):\n",
    "#     return np.power(epsilon-d, p)/np.power(epsilon, p)\n",
    "\n",
    "#compute_weights(3, np.array([random.uniform(0, 3) for _ in range(10)]))"
   ]
  },
  {
   "cell_type": "code",
   "execution_count": 62,
   "id": "db76fa39",
   "metadata": {},
   "outputs": [],
   "source": [
    "# #Spatial dependency\n",
    "# neighborhood_prices = []\n",
    "\n",
    "# epsilon = 1\n",
    "\n",
    "# for i, data in listings_cleaned.iterrows():\n",
    "\n",
    "#     x0 = data[\"latitude\"]\n",
    "#     y0 = data[\"longitude\"]\n",
    "    \n",
    "#     d = haversine(x0, y0, x, y)\n",
    "\n",
    "#     indices = np.where(d <= epsilon)[0]\n",
    "#     neighborhood = indices[indices != i]\n",
    "\n",
    "#     i_type = listings_cleaned.iloc[i][\"property_type\"]\n",
    "#     same_types = np.where(listings_cleaned[\"property_type\"].values == i_type)[0]\n",
    "\n",
    "#     neighborhood = np.intersect1d(same_types, neighborhood)\n",
    "\n",
    "#     weights = compute_weights(epsilon, d[neighborhood])\n",
    "#     if len(weights) != 0:\n",
    "#         neighborhood_price = sum(listings_cleaned.iloc[neighborhood][\"price\"]*weights)/sum(weights)\n",
    "#     else:\n",
    "#         neighborhood_price = None\n",
    "#     #print(neighborhood_price)\n",
    "#     #neighborhood_price = np.mean(listings_cleaned.iloc[neighborhood][\"price\"])\n",
    "\n",
    "#     prices = neighborhood_prices.append(neighborhood_price)\n",
    "\n",
    "# listings_cleaned[\"neighborhood_price\"] = neighborhood_prices\n",
    "# neighborhood_prices\n"
   ]
  },
  {
   "cell_type": "code",
   "execution_count": 63,
   "id": "07547902",
   "metadata": {},
   "outputs": [],
   "source": [
    "# listings_cleaned.columns"
   ]
  },
  {
   "cell_type": "code",
   "execution_count": 64,
   "id": "66c42cae",
   "metadata": {},
   "outputs": [],
   "source": [
    "# dummies = [\"host_location\", \"host_identity_verified\", \"property_type\",\n",
    "#                   \"room_type\", \"has_availability\"]\n",
    "# continuous = [    \"accommodates\", \"baths\", \"bedrooms\", \"beds\", \"recency\", \"neighborhood_price\"]"
   ]
  },
  {
   "cell_type": "code",
   "execution_count": 65,
   "id": "301c91cf",
   "metadata": {},
   "outputs": [],
   "source": [
    "# listings_cleaned[[\"price\"]+continuous].corr()"
   ]
  },
  {
   "cell_type": "code",
   "execution_count": 66,
   "id": "ba6a8c06",
   "metadata": {},
   "outputs": [],
   "source": [
    "# pipe_numeric = Pipeline(steps=[\n",
    "#   ('impute',KNNImputer()),\n",
    "#   ('standardize', StandardScaler())\n",
    "# ])\n",
    "\n",
    "# pipe_categorical = Pipeline(steps=[\n",
    "#   ('impute',SimpleImputer(strategy='most_frequent')),\n",
    "#   ('onehot', OneHotEncoder(sparse_output=False, handle_unknown='ignore'))\n",
    "# ])\n",
    "\n",
    "# preprocessor = ColumnTransformer(\n",
    "#     transformers=[\n",
    "#         (\"numerical\", pipe_numeric, continuous),\n",
    "#         (\"categorical\", pipe_categorical, dummies)\n",
    "#     ]\n",
    "# )\n",
    "\n",
    "# knn_pipe = Pipeline(steps=[\n",
    "#     (\"preprocessors\", preprocessor),\n",
    "#     ('poly_features', PolynomialFeatures(degree=3, include_bias=False)),\n",
    "#     ('model', KNeighborsRegressor(n_neighbors=10, weights='distance'))\n",
    "# ])"
   ]
  },
  {
   "cell_type": "code",
   "execution_count": 67,
   "id": "23980a6f",
   "metadata": {},
   "outputs": [],
   "source": [
    "# params = {\n",
    "#   #'preprocessors__categorical__select_percentile__percentile': [50],\n",
    "#   'preprocessors__numerical__impute__n_neighbors': list(range(5, 101, 5)),\n",
    "#   'poly_features__degree': [3],\n",
    "#   'model__n_neighbors': list(range(5, 101, 5)),\n",
    "#   'model__weights': ['distance']\n",
    "# }\n",
    "\n",
    "# X = listings_cleaned[continuous+dummies]\n",
    "# Y = listings_cleaned[\"price\"]\n",
    "# mae = make_scorer(mean_absolute_error, greater_is_better=False)\n",
    "# X_train, X_test, Y_train, Y_test = train_test_split(X, Y, test_size=0.5, random_state=486)\n",
    "# # knn_pipe.fit(X_train, Y_train)"
   ]
  },
  {
   "cell_type": "code",
   "execution_count": 68,
   "id": "6cfd443d",
   "metadata": {},
   "outputs": [],
   "source": [
    "# rs = RandomizedSearchCV(knn_pipe, param_distributions=params, scoring=mae, cv=5, random_state=486)"
   ]
  },
  {
   "cell_type": "code",
   "execution_count": 69,
   "id": "b9802c9a",
   "metadata": {},
   "outputs": [],
   "source": [
    "#We don't have enough memory to run this\n",
    "#rs.fit(X,Y)"
   ]
  },
  {
   "cell_type": "code",
   "execution_count": 70,
   "id": "ca44aeb1",
   "metadata": {},
   "outputs": [],
   "source": [
    "#rs.best_params_"
   ]
  },
  {
   "cell_type": "code",
   "execution_count": 71,
   "id": "d47eaaf3",
   "metadata": {},
   "outputs": [],
   "source": [
    "# #KNN Model 1\n",
    "# cv = KFold(n_splits=5,\n",
    "#            shuffle=True,\n",
    "#            random_state=0)\n",
    "\n",
    "# pipe_numeric = Pipeline(steps=[\n",
    "#   ('impute',KNNImputer(n_neighbors=10)),\n",
    "#   ('standardize', StandardScaler())   \n",
    "# ])\n",
    "\n",
    "# knn_pipe = Pipeline(steps=[\n",
    "#     (\"preprocessors\", preprocessor),\n",
    "#     ('poly_features', PolynomialFeatures(degree=3, include_bias=False)),\n",
    "#     ('model', KNeighborsRegressor(n_neighbors=10, weights='distance'))\n",
    "# ])\n",
    "\n",
    "# # knn_pipe.fit(X_train, Y_train)\n",
    "# # knn_yhat = knn_pipe.predict(X_test)\n",
    "\n",
    "# #knn_cv_error = cross_val_score(knn_pipe, X, Y, cv=cv, scoring=mae)\n",
    "# #-np.mean(knn_cv_error)"
   ]
  },
  {
   "cell_type": "code",
   "execution_count": 72,
   "id": "02a6d134",
   "metadata": {},
   "outputs": [],
   "source": [
    "# #KNN Model 2\n",
    "# cv = KFold(n_splits=5,\n",
    "#            shuffle=True,\n",
    "#            random_state=0)\n",
    "\n",
    "# pipe_numeric = Pipeline(steps=[\n",
    "#   ('impute',KNNImputer(n_neighbors=10)),\n",
    "#   ('standardize', StandardScaler())   \n",
    "# ])\n",
    "\n",
    "# knn_pipe = Pipeline(steps=[\n",
    "#     (\"preprocessors\", preprocessor),\n",
    "#     ('poly_features', PolynomialFeatures(degree=3, include_bias=False)),\n",
    "#     ('model', KNeighborsRegressor(n_neighbors=20, weights='distance'))\n",
    "# ])\n",
    "\n",
    "# # knn_pipe.fit(X_train, Y_train)\n",
    "# # knn_yhat = knn_pipe.predict(X_test)\n",
    "\n",
    "# #knn_cv_error = cross_val_score(knn_pipe, X, Y, cv=cv, scoring=mae)\n",
    "# #-np.mean(knn_cv_error)"
   ]
  },
  {
   "cell_type": "code",
   "execution_count": 73,
   "id": "a4ecbbaa",
   "metadata": {},
   "outputs": [],
   "source": [
    "# #KNN Model 3\n",
    "# cv = KFold(n_splits=10,\n",
    "#            shuffle=True,\n",
    "#            random_state=0)\n",
    "\n",
    "# pipe_numeric = Pipeline(steps=[\n",
    "#   ('impute',KNNImputer(n_neighbors=15)),\n",
    "#   ('standardize', StandardScaler())   \n",
    "# ])\n",
    "\n",
    "# knn_pipe = Pipeline(steps=[\n",
    "#     (\"preprocessors\", preprocessor),\n",
    "#     ('poly_features', PolynomialFeatures(degree=1, include_bias=False)),\n",
    "#     ('model', KNeighborsRegressor(n_neighbors=15, weights='distance'))\n",
    "# ])\n",
    "\n",
    "# # knn_pipe.fit(X_train, Y_train)\n",
    "# # knn_yhat = knn_pipe.predict(X_test)\n",
    "\n",
    "# #knn_cv_error = cross_val_score(knn_pipe, X, Y, cv=cv, scoring=mae)\n",
    "# #-np.mean(knn_cv_error)"
   ]
  },
  {
   "cell_type": "code",
   "execution_count": 74,
   "id": "5a80a098",
   "metadata": {},
   "outputs": [],
   "source": [
    "#Ridge regression\n",
    "# alphas = np.logspace(-6, 6, 30)\n",
    "\n",
    "# ridge_pipe = Pipeline(steps=[\n",
    "#     (\"preprocessors\", preprocessor),\n",
    "#     ('poly_features', PolynomialFeatures(degree=1, include_bias=False)),\n",
    "#     ('model', RidgeCV(alphas=np.logspace(-6, 6, 30), cv=10))\n",
    "# ])\n",
    "\n",
    "# ridge_pipe.fit(X_train, Y_train)\n",
    "# yhat = ridge_pipe.predict(X_test)\n",
    "# mean_absolute_error(Y_test, yhat)\n"
   ]
  },
  {
   "cell_type": "code",
   "execution_count": 75,
   "id": "71c9f0cd",
   "metadata": {},
   "outputs": [],
   "source": [
    "#Lasso regression\n",
    "# lasso_pipe = Pipeline(steps=[\n",
    "#     (\"preprocessors\", preprocessor),\n",
    "#     ('poly_features', PolynomialFeatures(degree=1, include_bias=False)),\n",
    "#     ('model', LassoCV(alphas=np.logspace(-6, 6, 30), cv=10))\n",
    "# ])\n",
    "\n",
    "# lasso_pipe.fit(X_train, Y_train)\n",
    "# lasso_yhat = ridge_pipe.predict(X_test)\n",
    "# mean_absolute_error(Y_test, lasso_yhat)"
   ]
  },
  {
   "cell_type": "code",
   "execution_count": 90,
   "id": "32976e70",
   "metadata": {},
   "outputs": [],
   "source": [
    "dummies = [\"host_location\", \"host_identity_verified\", \"property_type\",\n",
    "                  \"room_type\", \"has_availability\"]\n",
    "continuous = [    \"accommodates\", \"baths\", \"bedrooms\", \"beds\", \"recency\", \"latitude\", \"longitude\"]#, \"neighborhood_price\"]\n",
    "#         'review_scores_rating', 'review_scores_accuracy',\n",
    "#         'review_scores_cleanliness', 'review_scores_checkin',\n",
    "#        'review_scores_communication', 'review_scores_location',\n",
    "#        'review_scores_value',\n",
    "#        \"neighborhood_positivity\"]"
   ]
  },
  {
   "cell_type": "code",
   "execution_count": 95,
   "id": "3565f21a",
   "metadata": {},
   "outputs": [],
   "source": [
    "#Final model\n",
    "pipe_numeric = Pipeline(steps=[\n",
    "  ('impute',KNNImputer(n_neighbors=10)),\n",
    "  ('standardize', StandardScaler())   \n",
    "])\n",
    "\n",
    "pipe_categorical = Pipeline(steps=[\n",
    "  ('impute',SimpleImputer(strategy='most_frequent')),\n",
    "  ('onehot', OneHotEncoder(sparse_output=False, handle_unknown='ignore'))\n",
    "])\n",
    "\n",
    "preprocessor = ColumnTransformer(\n",
    "    transformers=[\n",
    "        (\"numerical\", pipe_numeric, continuous),\n",
    "        (\"categorical\", pipe_categorical, dummies)\n",
    "    ]\n",
    ")\n",
    "\n",
    "knn_pipe = Pipeline(steps=[\n",
    "    (\"preprocessors\", preprocessor),\n",
    "    ('poly_features', PolynomialFeatures(degree=1, include_bias=False)),\n",
    "    ('model', KNeighborsRegressor(n_neighbors=10, weights='distance'))\n",
    "])\n",
    "\n",
    "\n",
    "test = pd.read_csv(\"test.csv\")"
   ]
  },
  {
   "cell_type": "code",
   "execution_count": 92,
   "id": "03542ef1",
   "metadata": {},
   "outputs": [],
   "source": [
    "def compute_weights(epsilon, d, p=2):\n",
    "    return np.power(epsilon-d, p)/np.power(epsilon, p)\n",
    "\n",
    "R = 6371\n",
    "\n",
    "def haversine(x0, y0, x_vector, y_vector):\n",
    "    x = np.deg2rad(x0)\n",
    "    y = np.deg2rad(y0)\n",
    "    lat = np.deg2rad(x_vector)\n",
    "    long = np.deg2rad(y_vector)\n",
    "    xdiff = x-lat\n",
    "    ydiff = y-long\n",
    "    \n",
    "    d = np.sin(xdiff / 2)**2 + np.cos(x) * np.cos(lat) * np.sin(ydiff / 2)**2\n",
    "    c = 2 * np.arctan2(np.sqrt(d), np.sqrt(1-d))\n",
    "    km = R*c\n",
    "\n",
    "    return km\n",
    "\n",
    "def create_features(df, base=listings):\n",
    "\n",
    "    cleaned = pd.concat([df.drop(columns=[\"bedrooms\"]), pd.DataFrame(parse_descriptions(df[\"name\"].values))[[\"bedrooms\", \"baths\"]]], axis=1)\n",
    "    cleaned[\"host_response_rate\"] = cleaned[\"host_response_rate\"].apply(lambda r: float(r.split(\"%\")[0]) if isinstance(r, str) else r)\n",
    "    cleaned[\"last_review\"] = pd.to_datetime(cleaned[\"last_review\"])\n",
    "    most_recent_date = cleaned[\"last_review\"].max()\n",
    "    cleaned[\"recency\"] = 1+(most_recent_date-cleaned[\"last_review\"]).dt.days\n",
    "    cleaned[\"apt_type\"] = cleaned[\"name\"].apply(lambda d: apt_type(d))\n",
    "    cleaned[\"neighborhood_positivity\"] = cleaned[\"neighborhood_overview\"].apply(\n",
    "        lambda d: np.sum([word in d.lower() for word in positive_words]) if not pd.isna(d) else 0\n",
    "    )\n",
    "    cleaned[\"host_description_score\"] = cleaned[\"host_about\"].apply(\n",
    "        lambda d: len(d) if not pd.isna(d) else 0\n",
    "    )\n",
    "\n",
    "    cleaned[\"host_since\"] = pd.to_datetime(cleaned[\"host_since\"])\n",
    "    cleaned[\"host_recency\"] = 1+(most_recent_date-cleaned[\"host_since\"]).dt.days\n",
    "\n",
    "    #Spatial dependency\n",
    "    neighborhood_prices = []\n",
    "\n",
    "    epsilon = 1\n",
    "\n",
    "    for i, data in cleaned.iterrows():\n",
    "\n",
    "        x0 = data[\"latitude\"]\n",
    "        y0 = data[\"longitude\"]\n",
    "        \n",
    "        d = haversine(x0, y0, base[\"latitude\"].values, base[\"longitude\"].values)\n",
    "\n",
    "        indices = np.where(d <= epsilon)[0]\n",
    "        neighborhood = indices[indices != i]\n",
    "\n",
    "        i_type = cleaned.iloc[i][\"property_type\"]\n",
    "        same_types = np.where(base[\"property_type\"].values == i_type)[0]\n",
    "\n",
    "        neighborhood = np.intersect1d(same_types, neighborhood)\n",
    "\n",
    "        weights = compute_weights(epsilon, d[neighborhood])\n",
    "        if len(weights) != 0:\n",
    "            neighborhood_price = sum(base.iloc[neighborhood][\"price\"]*weights)/sum(weights)\n",
    "        else:\n",
    "            neighborhood_price = None\n",
    "\n",
    "        prices = neighborhood_prices.append(neighborhood_price)\n",
    "\n",
    "    cleaned[\"neighborhood_price\"] = neighborhood_prices\n",
    "\n",
    "    return cleaned\n",
    "\n",
    "listings_cleaned = create_features(listings).copy()\n",
    "\n",
    "X = listings_cleaned[continuous+dummies]\n",
    "Y = listings_cleaned[\"price\"]\n",
    "\n",
    "test_cleaned = create_features(test).copy()"
   ]
  },
  {
   "cell_type": "code",
   "execution_count": 105,
   "id": "b8a2aea9",
   "metadata": {},
   "outputs": [
    {
     "name": "stdout",
     "output_type": "stream",
     "text": [
      "0.09997381170616734\n",
      "0.19994762341233469\n",
      "0.29992143511850206\n",
      "0.39989524682466937\n",
      "0.49986905853083674\n",
      "0.5998428702370041\n",
      "0.6998166819431714\n",
      "0.7997904936493387\n",
      "0.8997643053555061\n",
      "100%\n"
     ]
    }
   ],
   "source": [
    "shuffle_indices = np.random.permutation(len(X))\n",
    "\n",
    "X_shuffled = X.iloc[shuffle_indices].reset_index(drop=True)\n",
    "Y_shuffled = Y.iloc[shuffle_indices].reset_index(drop=True)\n",
    "\n",
    "batches = 10\n",
    "batch_size = int(np.floor(len(X_shuffled)/batches))\n",
    "\n",
    "predictions = []\n",
    "\n",
    "for i in range(0, len(X_shuffled), batch_size):\n",
    "    \n",
    "    if i+2*batch_size > len(X_shuffled):\n",
    "        batch_size = len(X_shuffled)-i\n",
    "\n",
    "        X_batch = X_shuffled.iloc[i:i+batch_size]\n",
    "        Y_batch = Y_shuffled.iloc[i:i+batch_size]\n",
    "        \n",
    "        knn_pipe.fit(X_batch, Y_batch)\n",
    "        predictions.append(knn_pipe.predict(test_cleaned[continuous+dummies]))\n",
    "\n",
    "        print(\"100%\")\n",
    "\n",
    "        break;\n",
    "\n",
    "    else:\n",
    "\n",
    "        X_batch = X_shuffled.iloc[i:i+batch_size]\n",
    "        Y_batch = Y_shuffled.iloc[i:i+batch_size]\n",
    "        \n",
    "        knn_pipe.fit(X_batch, Y_batch)\n",
    "        predictions.append(knn_pipe.predict(test_cleaned[continuous+dummies]))\n",
    "\n",
    "        print((i+batch_size)/len(X_shuffled))"
   ]
  },
  {
   "cell_type": "code",
   "execution_count": 106,
   "id": "33deca96",
   "metadata": {},
   "outputs": [],
   "source": [
    "new_predictions = np.mean(np.array(predictions), axis=0)"
   ]
  },
  {
   "cell_type": "code",
   "execution_count": 108,
   "id": "71dffc3c",
   "metadata": {},
   "outputs": [],
   "source": [
    "predictions = pd.DataFrame(test_cleaned[\"Id\"].copy())\n",
    "predictions[\"price\"] = new_predictions"
   ]
  },
  {
   "cell_type": "code",
   "execution_count": 109,
   "id": "92b43e40",
   "metadata": {},
   "outputs": [
    {
     "data": {
      "text/html": [
       "<div>\n",
       "<style scoped>\n",
       "    .dataframe tbody tr th:only-of-type {\n",
       "        vertical-align: middle;\n",
       "    }\n",
       "\n",
       "    .dataframe tbody tr th {\n",
       "        vertical-align: top;\n",
       "    }\n",
       "\n",
       "    .dataframe thead th {\n",
       "        text-align: right;\n",
       "    }\n",
       "</style>\n",
       "<table border=\"1\" class=\"dataframe\">\n",
       "  <thead>\n",
       "    <tr style=\"text-align: right;\">\n",
       "      <th></th>\n",
       "      <th>Id</th>\n",
       "      <th>price</th>\n",
       "    </tr>\n",
       "  </thead>\n",
       "  <tbody>\n",
       "    <tr>\n",
       "      <th>0</th>\n",
       "      <td>PSJEN</td>\n",
       "      <td>83.457333</td>\n",
       "    </tr>\n",
       "    <tr>\n",
       "      <th>1</th>\n",
       "      <td>PVZW7</td>\n",
       "      <td>190.418903</td>\n",
       "    </tr>\n",
       "    <tr>\n",
       "      <th>2</th>\n",
       "      <td>EJLAM</td>\n",
       "      <td>72.801524</td>\n",
       "    </tr>\n",
       "    <tr>\n",
       "      <th>3</th>\n",
       "      <td>SDHPB</td>\n",
       "      <td>65.952457</td>\n",
       "    </tr>\n",
       "    <tr>\n",
       "      <th>4</th>\n",
       "      <td>MJGYX</td>\n",
       "      <td>388.607606</td>\n",
       "    </tr>\n",
       "    <tr>\n",
       "      <th>...</th>\n",
       "      <td>...</td>\n",
       "      <td>...</td>\n",
       "    </tr>\n",
       "    <tr>\n",
       "      <th>6542</th>\n",
       "      <td>2TAJ9</td>\n",
       "      <td>534.662046</td>\n",
       "    </tr>\n",
       "    <tr>\n",
       "      <th>6543</th>\n",
       "      <td>YFHBN</td>\n",
       "      <td>87.178555</td>\n",
       "    </tr>\n",
       "    <tr>\n",
       "      <th>6544</th>\n",
       "      <td>Z0TCA</td>\n",
       "      <td>68.795212</td>\n",
       "    </tr>\n",
       "    <tr>\n",
       "      <th>6545</th>\n",
       "      <td>VBCBJ</td>\n",
       "      <td>272.957071</td>\n",
       "    </tr>\n",
       "    <tr>\n",
       "      <th>6546</th>\n",
       "      <td>S2ZQX</td>\n",
       "      <td>457.220788</td>\n",
       "    </tr>\n",
       "  </tbody>\n",
       "</table>\n",
       "<p>6547 rows × 2 columns</p>\n",
       "</div>"
      ],
      "text/plain": [
       "         Id       price\n",
       "0     PSJEN   83.457333\n",
       "1     PVZW7  190.418903\n",
       "2     EJLAM   72.801524\n",
       "3     SDHPB   65.952457\n",
       "4     MJGYX  388.607606\n",
       "...     ...         ...\n",
       "6542  2TAJ9  534.662046\n",
       "6543  YFHBN   87.178555\n",
       "6544  Z0TCA   68.795212\n",
       "6545  VBCBJ  272.957071\n",
       "6546  S2ZQX  457.220788\n",
       "\n",
       "[6547 rows x 2 columns]"
      ]
     },
     "execution_count": 109,
     "metadata": {},
     "output_type": "execute_result"
    }
   ],
   "source": [
    "predictions"
   ]
  },
  {
   "cell_type": "code",
   "execution_count": 110,
   "id": "5cf90b6b",
   "metadata": {},
   "outputs": [],
   "source": [
    "predictions.to_csv(\"KNNPredictions.csv\", index=False)"
   ]
  },
  {
   "cell_type": "code",
   "execution_count": 142,
   "id": "74495c24",
   "metadata": {},
   "outputs": [
    {
     "data": {
      "text/html": [
       "<style>#sk-container-id-4 {color: black;}#sk-container-id-4 pre{padding: 0;}#sk-container-id-4 div.sk-toggleable {background-color: white;}#sk-container-id-4 label.sk-toggleable__label {cursor: pointer;display: block;width: 100%;margin-bottom: 0;padding: 0.3em;box-sizing: border-box;text-align: center;}#sk-container-id-4 label.sk-toggleable__label-arrow:before {content: \"▸\";float: left;margin-right: 0.25em;color: #696969;}#sk-container-id-4 label.sk-toggleable__label-arrow:hover:before {color: black;}#sk-container-id-4 div.sk-estimator:hover label.sk-toggleable__label-arrow:before {color: black;}#sk-container-id-4 div.sk-toggleable__content {max-height: 0;max-width: 0;overflow: hidden;text-align: left;background-color: #f0f8ff;}#sk-container-id-4 div.sk-toggleable__content pre {margin: 0.2em;color: black;border-radius: 0.25em;background-color: #f0f8ff;}#sk-container-id-4 input.sk-toggleable__control:checked~div.sk-toggleable__content {max-height: 200px;max-width: 100%;overflow: auto;}#sk-container-id-4 input.sk-toggleable__control:checked~label.sk-toggleable__label-arrow:before {content: \"▾\";}#sk-container-id-4 div.sk-estimator input.sk-toggleable__control:checked~label.sk-toggleable__label {background-color: #d4ebff;}#sk-container-id-4 div.sk-label input.sk-toggleable__control:checked~label.sk-toggleable__label {background-color: #d4ebff;}#sk-container-id-4 input.sk-hidden--visually {border: 0;clip: rect(1px 1px 1px 1px);clip: rect(1px, 1px, 1px, 1px);height: 1px;margin: -1px;overflow: hidden;padding: 0;position: absolute;width: 1px;}#sk-container-id-4 div.sk-estimator {font-family: monospace;background-color: #f0f8ff;border: 1px dotted black;border-radius: 0.25em;box-sizing: border-box;margin-bottom: 0.5em;}#sk-container-id-4 div.sk-estimator:hover {background-color: #d4ebff;}#sk-container-id-4 div.sk-parallel-item::after {content: \"\";width: 100%;border-bottom: 1px solid gray;flex-grow: 1;}#sk-container-id-4 div.sk-label:hover label.sk-toggleable__label {background-color: #d4ebff;}#sk-container-id-4 div.sk-serial::before {content: \"\";position: absolute;border-left: 1px solid gray;box-sizing: border-box;top: 0;bottom: 0;left: 50%;z-index: 0;}#sk-container-id-4 div.sk-serial {display: flex;flex-direction: column;align-items: center;background-color: white;padding-right: 0.2em;padding-left: 0.2em;position: relative;}#sk-container-id-4 div.sk-item {position: relative;z-index: 1;}#sk-container-id-4 div.sk-parallel {display: flex;align-items: stretch;justify-content: center;background-color: white;position: relative;}#sk-container-id-4 div.sk-item::before, #sk-container-id-4 div.sk-parallel-item::before {content: \"\";position: absolute;border-left: 1px solid gray;box-sizing: border-box;top: 0;bottom: 0;left: 50%;z-index: -1;}#sk-container-id-4 div.sk-parallel-item {display: flex;flex-direction: column;z-index: 1;position: relative;background-color: white;}#sk-container-id-4 div.sk-parallel-item:first-child::after {align-self: flex-end;width: 50%;}#sk-container-id-4 div.sk-parallel-item:last-child::after {align-self: flex-start;width: 50%;}#sk-container-id-4 div.sk-parallel-item:only-child::after {width: 0;}#sk-container-id-4 div.sk-dashed-wrapped {border: 1px dashed gray;margin: 0 0.4em 0.5em 0.4em;box-sizing: border-box;padding-bottom: 0.4em;background-color: white;}#sk-container-id-4 div.sk-label label {font-family: monospace;font-weight: bold;display: inline-block;line-height: 1.2em;}#sk-container-id-4 div.sk-label-container {text-align: center;}#sk-container-id-4 div.sk-container {/* jupyter's `normalize.less` sets `[hidden] { display: none; }` but bootstrap.min.css set `[hidden] { display: none !important; }` so we also need the `!important` here to be able to override the default hidden behavior on the sphinx rendered scikit-learn.org. See: https://github.com/scikit-learn/scikit-learn/issues/21755 */display: inline-block !important;position: relative;}#sk-container-id-4 div.sk-text-repr-fallback {display: none;}</style><div id=\"sk-container-id-4\" class=\"sk-top-container\"><div class=\"sk-text-repr-fallback\"><pre>ColumnTransformer(transformers=[(&#x27;numerical&#x27;,\n",
       "                                 Pipeline(steps=[(&#x27;impute&#x27;,\n",
       "                                                  KNNImputer(n_neighbors=10)),\n",
       "                                                 (&#x27;poly_features&#x27;,\n",
       "                                                  PolynomialFeatures(degree=3,\n",
       "                                                                     include_bias=False))]),\n",
       "                                 [&#x27;accommodates&#x27;, &#x27;baths&#x27;, &#x27;bedrooms&#x27;, &#x27;beds&#x27;,\n",
       "                                  &#x27;recency&#x27;, &#x27;neighborhood_price&#x27;]),\n",
       "                                (&#x27;categorical&#x27;,\n",
       "                                 Pipeline(steps=[(&#x27;impute&#x27;,\n",
       "                                                  SimpleImputer(strategy=&#x27;most_frequent&#x27;)),\n",
       "                                                 (&#x27;onehot&#x27;,\n",
       "                                                  OneHotEncoder(handle_unknown=&#x27;ignore&#x27;,\n",
       "                                                                sparse_output=False))]),\n",
       "                                 [&#x27;host_location&#x27;, &#x27;host_identity_verified&#x27;,\n",
       "                                  &#x27;property_type&#x27;, &#x27;room_type&#x27;,\n",
       "                                  &#x27;has_availability&#x27;])])</pre><b>In a Jupyter environment, please rerun this cell to show the HTML representation or trust the notebook. <br />On GitHub, the HTML representation is unable to render, please try loading this page with nbviewer.org.</b></div><div class=\"sk-container\" hidden><div class=\"sk-item sk-dashed-wrapped\"><div class=\"sk-label-container\"><div class=\"sk-label sk-toggleable\"><input class=\"sk-toggleable__control sk-hidden--visually\" id=\"sk-estimator-id-24\" type=\"checkbox\" ><label for=\"sk-estimator-id-24\" class=\"sk-toggleable__label sk-toggleable__label-arrow\">ColumnTransformer</label><div class=\"sk-toggleable__content\"><pre>ColumnTransformer(transformers=[(&#x27;numerical&#x27;,\n",
       "                                 Pipeline(steps=[(&#x27;impute&#x27;,\n",
       "                                                  KNNImputer(n_neighbors=10)),\n",
       "                                                 (&#x27;poly_features&#x27;,\n",
       "                                                  PolynomialFeatures(degree=3,\n",
       "                                                                     include_bias=False))]),\n",
       "                                 [&#x27;accommodates&#x27;, &#x27;baths&#x27;, &#x27;bedrooms&#x27;, &#x27;beds&#x27;,\n",
       "                                  &#x27;recency&#x27;, &#x27;neighborhood_price&#x27;]),\n",
       "                                (&#x27;categorical&#x27;,\n",
       "                                 Pipeline(steps=[(&#x27;impute&#x27;,\n",
       "                                                  SimpleImputer(strategy=&#x27;most_frequent&#x27;)),\n",
       "                                                 (&#x27;onehot&#x27;,\n",
       "                                                  OneHotEncoder(handle_unknown=&#x27;ignore&#x27;,\n",
       "                                                                sparse_output=False))]),\n",
       "                                 [&#x27;host_location&#x27;, &#x27;host_identity_verified&#x27;,\n",
       "                                  &#x27;property_type&#x27;, &#x27;room_type&#x27;,\n",
       "                                  &#x27;has_availability&#x27;])])</pre></div></div></div><div class=\"sk-parallel\"><div class=\"sk-parallel-item\"><div class=\"sk-item\"><div class=\"sk-label-container\"><div class=\"sk-label sk-toggleable\"><input class=\"sk-toggleable__control sk-hidden--visually\" id=\"sk-estimator-id-25\" type=\"checkbox\" ><label for=\"sk-estimator-id-25\" class=\"sk-toggleable__label sk-toggleable__label-arrow\">numerical</label><div class=\"sk-toggleable__content\"><pre>[&#x27;accommodates&#x27;, &#x27;baths&#x27;, &#x27;bedrooms&#x27;, &#x27;beds&#x27;, &#x27;recency&#x27;, &#x27;neighborhood_price&#x27;]</pre></div></div></div><div class=\"sk-serial\"><div class=\"sk-item\"><div class=\"sk-serial\"><div class=\"sk-item\"><div class=\"sk-estimator sk-toggleable\"><input class=\"sk-toggleable__control sk-hidden--visually\" id=\"sk-estimator-id-26\" type=\"checkbox\" ><label for=\"sk-estimator-id-26\" class=\"sk-toggleable__label sk-toggleable__label-arrow\">KNNImputer</label><div class=\"sk-toggleable__content\"><pre>KNNImputer(n_neighbors=10)</pre></div></div></div><div class=\"sk-item\"><div class=\"sk-estimator sk-toggleable\"><input class=\"sk-toggleable__control sk-hidden--visually\" id=\"sk-estimator-id-27\" type=\"checkbox\" ><label for=\"sk-estimator-id-27\" class=\"sk-toggleable__label sk-toggleable__label-arrow\">PolynomialFeatures</label><div class=\"sk-toggleable__content\"><pre>PolynomialFeatures(degree=3, include_bias=False)</pre></div></div></div></div></div></div></div></div><div class=\"sk-parallel-item\"><div class=\"sk-item\"><div class=\"sk-label-container\"><div class=\"sk-label sk-toggleable\"><input class=\"sk-toggleable__control sk-hidden--visually\" id=\"sk-estimator-id-28\" type=\"checkbox\" ><label for=\"sk-estimator-id-28\" class=\"sk-toggleable__label sk-toggleable__label-arrow\">categorical</label><div class=\"sk-toggleable__content\"><pre>[&#x27;host_location&#x27;, &#x27;host_identity_verified&#x27;, &#x27;property_type&#x27;, &#x27;room_type&#x27;, &#x27;has_availability&#x27;]</pre></div></div></div><div class=\"sk-serial\"><div class=\"sk-item\"><div class=\"sk-serial\"><div class=\"sk-item\"><div class=\"sk-estimator sk-toggleable\"><input class=\"sk-toggleable__control sk-hidden--visually\" id=\"sk-estimator-id-29\" type=\"checkbox\" ><label for=\"sk-estimator-id-29\" class=\"sk-toggleable__label sk-toggleable__label-arrow\">SimpleImputer</label><div class=\"sk-toggleable__content\"><pre>SimpleImputer(strategy=&#x27;most_frequent&#x27;)</pre></div></div></div><div class=\"sk-item\"><div class=\"sk-estimator sk-toggleable\"><input class=\"sk-toggleable__control sk-hidden--visually\" id=\"sk-estimator-id-30\" type=\"checkbox\" ><label for=\"sk-estimator-id-30\" class=\"sk-toggleable__label sk-toggleable__label-arrow\">OneHotEncoder</label><div class=\"sk-toggleable__content\"><pre>OneHotEncoder(handle_unknown=&#x27;ignore&#x27;, sparse_output=False)</pre></div></div></div></div></div></div></div></div></div></div></div></div>"
      ],
      "text/plain": [
       "ColumnTransformer(transformers=[('numerical',\n",
       "                                 Pipeline(steps=[('impute',\n",
       "                                                  KNNImputer(n_neighbors=10)),\n",
       "                                                 ('poly_features',\n",
       "                                                  PolynomialFeatures(degree=3,\n",
       "                                                                     include_bias=False))]),\n",
       "                                 ['accommodates', 'baths', 'bedrooms', 'beds',\n",
       "                                  'recency', 'neighborhood_price']),\n",
       "                                ('categorical',\n",
       "                                 Pipeline(steps=[('impute',\n",
       "                                                  SimpleImputer(strategy='most_frequent')),\n",
       "                                                 ('onehot',\n",
       "                                                  OneHotEncoder(handle_unknown='ignore',\n",
       "                                                                sparse_output=False))]),\n",
       "                                 ['host_location', 'host_identity_verified',\n",
       "                                  'property_type', 'room_type',\n",
       "                                  'has_availability'])])"
      ]
     },
     "execution_count": 142,
     "metadata": {},
     "output_type": "execute_result"
    }
   ],
   "source": [
    "\n",
    "dummies = [\"host_location\", \"host_identity_verified\", \"property_type\",\n",
    "                  \"room_type\", \"has_availability\"]\n",
    "continuous = [    \"accommodates\", \"baths\", \"bedrooms\", \"beds\", \"recency\", \"neighborhood_price\"]\n",
    "\n",
    "X = listings_cleaned[continuous+dummies]\n",
    "\n",
    "pipe_numeric = Pipeline(steps=[\n",
    "  ('impute',KNNImputer(n_neighbors=10)),\n",
    "  ('poly_features', PolynomialFeatures(degree=3, include_bias=False))   \n",
    "])\n",
    "\n",
    "pipe_categorical = Pipeline(steps=[\n",
    "  ('impute',SimpleImputer(strategy='most_frequent')),\n",
    "  ('onehot', OneHotEncoder(sparse_output=False, handle_unknown='ignore'))\n",
    "])\n",
    "\n",
    "preprocessor = ColumnTransformer(\n",
    "    transformers=[\n",
    "        (\"numerical\", pipe_numeric, continuous),\n",
    "        (\"categorical\", pipe_categorical, dummies)\n",
    "    ]\n",
    ")\n",
    "\n",
    "preprocessor.fit(X)"
   ]
  },
  {
   "cell_type": "code",
   "execution_count": 138,
   "id": "1b050ec6",
   "metadata": {},
   "outputs": [
    {
     "name": "stdout",
     "output_type": "stream",
     "text": [
      "0.065470734581642\n",
      "0.130941469163284\n",
      "0.19641220374492602\n",
      "0.261882938326568\n",
      "0.32735367290821005\n",
      "0.39282440748985203\n",
      "0.458295142071494\n",
      "0.523765876653136\n",
      "0.5892366112347781\n",
      "0.6547073458164201\n",
      "0.7201780803980621\n",
      "0.7856488149797041\n",
      "0.8511195495613461\n",
      "0.916590284142988\n",
      "0.9820610187246301\n",
      "1.047531753306272\n"
     ]
    }
   ],
   "source": [
    "X_transformed = preprocessor.transform(X)\n",
    "\n",
    "rf = RandomForestRegressor(n_estimators=100, warm_start=True)\n",
    "\n",
    "shuffle_indices = np.random.permutation(len(X))\n",
    "\n",
    "X_shuffled = X_transformed[shuffle_indices]\n",
    "Y_shuffled = Y.iloc[shuffle_indices].reset_index(drop=True)\n",
    "\n",
    "batch_size = 1000\n",
    "\n",
    "for i in range(0, len(X_shuffled), batch_size):\n",
    "    \n",
    "    X_batch = X_shuffled[i:i+batch_size]\n",
    "    Y_batch = Y_shuffled.iloc[i:i+batch_size]\n",
    "    \n",
    "    rf.n_estimators += 100\n",
    "    rf.fit(X_batch, Y_batch)\n",
    "\n",
    "    print((i+batch_size)/len(X_shuffled))"
   ]
  },
  {
   "cell_type": "code",
   "execution_count": 139,
   "id": "8ae8dacc",
   "metadata": {},
   "outputs": [
    {
     "data": {
      "text/plain": [
       "190.26049480085342"
      ]
     },
     "execution_count": 139,
     "metadata": {},
     "output_type": "execute_result"
    }
   ],
   "source": [
    "#MAE of our data set\n",
    "rf_yhat = rf.predict(X_transformed)\n",
    "mean_absolute_error(Y, rf_yhat)"
   ]
  },
  {
   "cell_type": "code",
   "execution_count": 140,
   "id": "2f17c10d",
   "metadata": {},
   "outputs": [
    {
     "data": {
      "text/html": [
       "<div>\n",
       "<style scoped>\n",
       "    .dataframe tbody tr th:only-of-type {\n",
       "        vertical-align: middle;\n",
       "    }\n",
       "\n",
       "    .dataframe tbody tr th {\n",
       "        vertical-align: top;\n",
       "    }\n",
       "\n",
       "    .dataframe thead th {\n",
       "        text-align: right;\n",
       "    }\n",
       "</style>\n",
       "<table border=\"1\" class=\"dataframe\">\n",
       "  <thead>\n",
       "    <tr style=\"text-align: right;\">\n",
       "      <th></th>\n",
       "      <th>Id</th>\n",
       "      <th>price</th>\n",
       "    </tr>\n",
       "  </thead>\n",
       "  <tbody>\n",
       "    <tr>\n",
       "      <th>0</th>\n",
       "      <td>PSJEN</td>\n",
       "      <td>77.898824</td>\n",
       "    </tr>\n",
       "    <tr>\n",
       "      <th>1</th>\n",
       "      <td>PVZW7</td>\n",
       "      <td>91.969412</td>\n",
       "    </tr>\n",
       "    <tr>\n",
       "      <th>2</th>\n",
       "      <td>EJLAM</td>\n",
       "      <td>66.628235</td>\n",
       "    </tr>\n",
       "    <tr>\n",
       "      <th>3</th>\n",
       "      <td>SDHPB</td>\n",
       "      <td>55.444118</td>\n",
       "    </tr>\n",
       "    <tr>\n",
       "      <th>4</th>\n",
       "      <td>MJGYX</td>\n",
       "      <td>332.873529</td>\n",
       "    </tr>\n",
       "    <tr>\n",
       "      <th>...</th>\n",
       "      <td>...</td>\n",
       "      <td>...</td>\n",
       "    </tr>\n",
       "    <tr>\n",
       "      <th>6542</th>\n",
       "      <td>2TAJ9</td>\n",
       "      <td>834.945294</td>\n",
       "    </tr>\n",
       "    <tr>\n",
       "      <th>6543</th>\n",
       "      <td>YFHBN</td>\n",
       "      <td>69.057647</td>\n",
       "    </tr>\n",
       "    <tr>\n",
       "      <th>6544</th>\n",
       "      <td>Z0TCA</td>\n",
       "      <td>83.414706</td>\n",
       "    </tr>\n",
       "    <tr>\n",
       "      <th>6545</th>\n",
       "      <td>VBCBJ</td>\n",
       "      <td>276.485882</td>\n",
       "    </tr>\n",
       "    <tr>\n",
       "      <th>6546</th>\n",
       "      <td>S2ZQX</td>\n",
       "      <td>570.127647</td>\n",
       "    </tr>\n",
       "  </tbody>\n",
       "</table>\n",
       "<p>6547 rows × 2 columns</p>\n",
       "</div>"
      ],
      "text/plain": [
       "         Id       price\n",
       "0     PSJEN   77.898824\n",
       "1     PVZW7   91.969412\n",
       "2     EJLAM   66.628235\n",
       "3     SDHPB   55.444118\n",
       "4     MJGYX  332.873529\n",
       "...     ...         ...\n",
       "6542  2TAJ9  834.945294\n",
       "6543  YFHBN   69.057647\n",
       "6544  Z0TCA   83.414706\n",
       "6545  VBCBJ  276.485882\n",
       "6546  S2ZQX  570.127647\n",
       "\n",
       "[6547 rows x 2 columns]"
      ]
     },
     "execution_count": 140,
     "metadata": {},
     "output_type": "execute_result"
    }
   ],
   "source": [
    "predictions = pd.DataFrame(test_cleaned[\"Id\"].copy())\n",
    "predictions[\"price\"] = rf.predict(preprocessor.transform(test_cleaned[continuous+dummies]))\n",
    "predictions"
   ]
  },
  {
   "cell_type": "code",
   "execution_count": 141,
   "id": "a02ee7e3",
   "metadata": {},
   "outputs": [],
   "source": [
    "predictions.to_csv(\"rf_predictions.csv\", index=False)"
   ]
  },
  {
   "cell_type": "markdown",
   "id": "19e51760",
   "metadata": {},
   "source": [
    "##### "
   ]
  },
  {
   "cell_type": "markdown",
   "id": "5a051531",
   "metadata": {},
   "source": [
    "#### "
   ]
  }
 ],
 "metadata": {
  "kernelspec": {
   "display_name": "Python 3 (ipykernel)",
   "language": "python",
   "name": "python3"
  },
  "language_info": {
   "codemirror_mode": {
    "name": "ipython",
    "version": 3
   },
   "file_extension": ".py",
   "mimetype": "text/x-python",
   "name": "python",
   "nbconvert_exporter": "python",
   "pygments_lexer": "ipython3",
   "version": "3.10.12"
  }
 },
 "nbformat": 4,
 "nbformat_minor": 5
}
